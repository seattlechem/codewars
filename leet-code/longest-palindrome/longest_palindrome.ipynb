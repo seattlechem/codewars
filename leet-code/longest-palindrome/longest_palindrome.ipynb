{
 "cells": [
  {
   "cell_type": "code",
   "execution_count": null,
   "metadata": {
    "scrolled": true
   },
   "outputs": [
    {
     "name": "stdout",
     "output_type": "stream",
     "text": [
      "[[True, 0, 0, 0], [0, True, 0, 0], [0, 0, True, 0], [0, 0, 0, True]]\n"
     ]
    }
   ],
   "source": [
    "s = 'aaaa'\n",
    "\n",
    "# def longest_palindrome(s):\n",
    "n = len(s)\n",
    "table = [[0 for x in range(n)] for y in range(n)]\n",
    "# table[i][j] True when i == j\n",
    "# checking for length = 1\n",
    "for i in range(n):\n",
    "    table[i][i] = True\n",
    "# checking for length = 2\n",
    "print(table)\n",
    "for i in range(n):\n",
    "    while i < n - 1:\n",
    "        if s[i] == s[i + 1]:\n",
    "            table[i][i + 1] = True\n",
    "\n",
    "print(table)"
   ]
  },
  {
   "cell_type": "code",
   "execution_count": null,
   "metadata": {},
   "outputs": [],
   "source": []
  }
 ],
 "metadata": {
  "kernelspec": {
   "display_name": "Python 3",
   "language": "python",
   "name": "python3"
  },
  "language_info": {
   "codemirror_mode": {
    "name": "ipython",
    "version": 3
   },
   "file_extension": ".py",
   "mimetype": "text/x-python",
   "name": "python",
   "nbconvert_exporter": "python",
   "pygments_lexer": "ipython3",
   "version": "3.6.4"
  }
 },
 "nbformat": 4,
 "nbformat_minor": 2
}
